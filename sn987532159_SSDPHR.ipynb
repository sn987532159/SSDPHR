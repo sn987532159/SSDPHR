{
 "cells": [
  {
   "cell_type": "markdown",
   "metadata": {},
   "source": [
    "# Scientific Software Developmentwith Python in Health Research Assignment"
   ]
  },
  {
   "cell_type": "markdown",
   "metadata": {},
   "source": [
    "WHO Mortality Database\n",
    "\n",
    "The WHO Mortality Database is a database of registered deaths compiled by the WHO from data given by national authorities around the world. The cause of each death is classified by the circumstances that led to death. For this exercise, you will use data which report the cause of death using the 10th revision of the International Classification of Diseases (ICD-10). All of this information is collated into a number of Comma Separated Value (CSV) files, which can be found on the WHO Mortality Database website. The year of interest for this assignment is 2010.\n",
    "\n",
    "Each country in the database is uniquely identified in all WHO datasets by a four digit numeric code. The mapping between countries and identifier codes is located in the \"Country codes\" lookup file. Information on the population of each country is found in the \"Population and live births\" file.\n",
    "\n",
    "The following data files will be used in this study:\n",
    "\n",
    "1. Population and live births -- a file that includes the population distribution by age group for every country\n",
    "2. Country codes -- file linking country name with country code\n",
    "3. Mortality, ICD-10 (part 1/2) -- Mortality (coded in ICD10) distribution by age group for 1st part of the countries\n",
    "4. Mortality, ICD-10 (part 2/2) -- Mortality (coded in ICD10) distribution by age group for 2nd part of the countries\n",
    "5. Documentation_1May2019.doc -- Description of different column names in the datasets, use this to answer the questions.\n",
    "6. I10cm_desc2010.txt – Description of the ICD10 codes and their meaning, this can be downloaded from the National Center for Health Statistics."
   ]
  },
  {
   "cell_type": "code",
   "execution_count": 1,
   "metadata": {},
   "outputs": [],
   "source": [
    "#Firstly, we imported the standard modules and models we would use in this assignment.\n",
    "import pandas as pd\n",
    "import numpy as np\n",
    "from matplotlib import pyplot as plt"
   ]
  },
  {
   "cell_type": "markdown",
   "metadata": {},
   "source": [
    "## 1. Find the country code for Italy and Japan. Do not just copy the country codes, use python code to identify them."
   ]
  },
  {
   "cell_type": "code",
   "execution_count": 2,
   "metadata": {},
   "outputs": [
    {
     "data": {
      "text/html": [
       "<div>\n",
       "<style scoped>\n",
       "    .dataframe tbody tr th:only-of-type {\n",
       "        vertical-align: middle;\n",
       "    }\n",
       "\n",
       "    .dataframe tbody tr th {\n",
       "        vertical-align: top;\n",
       "    }\n",
       "\n",
       "    .dataframe thead th {\n",
       "        text-align: right;\n",
       "    }\n",
       "</style>\n",
       "<table border=\"1\" class=\"dataframe\">\n",
       "  <thead>\n",
       "    <tr style=\"text-align: right;\">\n",
       "      <th></th>\n",
       "      <th>country</th>\n",
       "      <th>name</th>\n",
       "    </tr>\n",
       "  </thead>\n",
       "  <tbody>\n",
       "    <tr>\n",
       "      <th>0</th>\n",
       "      <td>1010</td>\n",
       "      <td>Algeria</td>\n",
       "    </tr>\n",
       "    <tr>\n",
       "      <th>1</th>\n",
       "      <td>1020</td>\n",
       "      <td>Angola</td>\n",
       "    </tr>\n",
       "    <tr>\n",
       "      <th>2</th>\n",
       "      <td>1025</td>\n",
       "      <td>Benin</td>\n",
       "    </tr>\n",
       "    <tr>\n",
       "      <th>3</th>\n",
       "      <td>1030</td>\n",
       "      <td>Botswana</td>\n",
       "    </tr>\n",
       "    <tr>\n",
       "      <th>4</th>\n",
       "      <td>1035</td>\n",
       "      <td>Burkina Faso</td>\n",
       "    </tr>\n",
       "  </tbody>\n",
       "</table>\n",
       "</div>"
      ],
      "text/plain": [
       "   country          name\n",
       "0     1010       Algeria\n",
       "1     1020        Angola\n",
       "2     1025         Benin\n",
       "3     1030      Botswana\n",
       "4     1035  Burkina Faso"
      ]
     },
     "execution_count": 2,
     "metadata": {},
     "output_type": "execute_result"
    }
   ],
   "source": [
    "# importing 2 country_codes dataset\n",
    "country = pd.read_csv('./2 country_codes.csv')\n",
    "\n",
    "# briefly viewing the table of country\n",
    "country.head()"
   ]
  },
  {
   "cell_type": "code",
   "execution_count": 3,
   "metadata": {},
   "outputs": [],
   "source": [
    "# finding out the country codes of Italy and Japan\n",
    "italy = country[country.name=='Italy'] \n",
    "japan = country[country.name=='Japan']"
   ]
  },
  {
   "cell_type": "code",
   "execution_count": 4,
   "metadata": {},
   "outputs": [
    {
     "data": {
      "text/html": [
       "<div>\n",
       "<style scoped>\n",
       "    .dataframe tbody tr th:only-of-type {\n",
       "        vertical-align: middle;\n",
       "    }\n",
       "\n",
       "    .dataframe tbody tr th {\n",
       "        vertical-align: top;\n",
       "    }\n",
       "\n",
       "    .dataframe thead th {\n",
       "        text-align: right;\n",
       "    }\n",
       "</style>\n",
       "<table border=\"1\" class=\"dataframe\">\n",
       "  <thead>\n",
       "    <tr style=\"text-align: right;\">\n",
       "      <th></th>\n",
       "      <th>country</th>\n",
       "      <th>name</th>\n",
       "    </tr>\n",
       "  </thead>\n",
       "  <tbody>\n",
       "    <tr>\n",
       "      <th>176</th>\n",
       "      <td>4180</td>\n",
       "      <td>Italy</td>\n",
       "    </tr>\n",
       "  </tbody>\n",
       "</table>\n",
       "</div>"
      ],
      "text/plain": [
       "     country   name\n",
       "176     4180  Italy"
      ]
     },
     "execution_count": 4,
     "metadata": {},
     "output_type": "execute_result"
    }
   ],
   "source": [
    "# printing the result of italy\n",
    "italy "
   ]
  },
  {
   "cell_type": "code",
   "execution_count": 5,
   "metadata": {},
   "outputs": [
    {
     "data": {
      "text/html": [
       "<div>\n",
       "<style scoped>\n",
       "    .dataframe tbody tr th:only-of-type {\n",
       "        vertical-align: middle;\n",
       "    }\n",
       "\n",
       "    .dataframe tbody tr th {\n",
       "        vertical-align: top;\n",
       "    }\n",
       "\n",
       "    .dataframe thead th {\n",
       "        text-align: right;\n",
       "    }\n",
       "</style>\n",
       "<table border=\"1\" class=\"dataframe\">\n",
       "  <thead>\n",
       "    <tr style=\"text-align: right;\">\n",
       "      <th></th>\n",
       "      <th>country</th>\n",
       "      <th>name</th>\n",
       "    </tr>\n",
       "  </thead>\n",
       "  <tbody>\n",
       "    <tr>\n",
       "      <th>124</th>\n",
       "      <td>3160</td>\n",
       "      <td>Japan</td>\n",
       "    </tr>\n",
       "  </tbody>\n",
       "</table>\n",
       "</div>"
      ],
      "text/plain": [
       "     country   name\n",
       "124     3160  Japan"
      ]
     },
     "execution_count": 5,
     "metadata": {},
     "output_type": "execute_result"
    }
   ],
   "source": [
    "# printing the result of japan\n",
    "japan"
   ]
  },
  {
   "cell_type": "raw",
   "metadata": {},
   "source": [
    "For question 1:\n",
    "1. country code of Italy is 4180.\n",
    "2. country code of Japan is 3160."
   ]
  },
  {
   "cell_type": "markdown",
   "metadata": {},
   "source": [
    "## 2. In the year 2010 how many people died (from all causes) in Italy and Japan."
   ]
  },
  {
   "cell_type": "code",
   "execution_count": 6,
   "metadata": {},
   "outputs": [
    {
     "name": "stderr",
     "output_type": "stream",
     "text": [
      "//anaconda3/lib/python3.7/site-packages/IPython/core/interactiveshell.py:3057: DtypeWarning: Columns (4) have mixed types. Specify dtype option on import or set low_memory=False.\n",
      "  interactivity=interactivity, compiler=compiler, result=result)\n"
     ]
    },
    {
     "data": {
      "text/html": [
       "<div>\n",
       "<style scoped>\n",
       "    .dataframe tbody tr th:only-of-type {\n",
       "        vertical-align: middle;\n",
       "    }\n",
       "\n",
       "    .dataframe tbody tr th {\n",
       "        vertical-align: top;\n",
       "    }\n",
       "\n",
       "    .dataframe thead th {\n",
       "        text-align: right;\n",
       "    }\n",
       "</style>\n",
       "<table border=\"1\" class=\"dataframe\">\n",
       "  <thead>\n",
       "    <tr style=\"text-align: right;\">\n",
       "      <th></th>\n",
       "      <th>Country</th>\n",
       "      <th>Admin1</th>\n",
       "      <th>SubDiv</th>\n",
       "      <th>Year</th>\n",
       "      <th>List</th>\n",
       "      <th>Cause</th>\n",
       "      <th>Sex</th>\n",
       "      <th>Frmat</th>\n",
       "      <th>IM_Frmat</th>\n",
       "      <th>Deaths1</th>\n",
       "      <th>...</th>\n",
       "      <th>Deaths21</th>\n",
       "      <th>Deaths22</th>\n",
       "      <th>Deaths23</th>\n",
       "      <th>Deaths24</th>\n",
       "      <th>Deaths25</th>\n",
       "      <th>Deaths26</th>\n",
       "      <th>IM_Deaths1</th>\n",
       "      <th>IM_Deaths2</th>\n",
       "      <th>IM_Deaths3</th>\n",
       "      <th>IM_Deaths4</th>\n",
       "    </tr>\n",
       "  </thead>\n",
       "  <tbody>\n",
       "    <tr>\n",
       "      <th>0</th>\n",
       "      <td>1400</td>\n",
       "      <td>NaN</td>\n",
       "      <td>NaN</td>\n",
       "      <td>2001</td>\n",
       "      <td>101</td>\n",
       "      <td>1000</td>\n",
       "      <td>1</td>\n",
       "      <td>7</td>\n",
       "      <td>8</td>\n",
       "      <td>332</td>\n",
       "      <td>...</td>\n",
       "      <td>95.0</td>\n",
       "      <td>NaN</td>\n",
       "      <td>NaN</td>\n",
       "      <td>NaN</td>\n",
       "      <td>NaN</td>\n",
       "      <td>0.0</td>\n",
       "      <td>8.0</td>\n",
       "      <td>NaN</td>\n",
       "      <td>NaN</td>\n",
       "      <td>NaN</td>\n",
       "    </tr>\n",
       "    <tr>\n",
       "      <th>1</th>\n",
       "      <td>1400</td>\n",
       "      <td>NaN</td>\n",
       "      <td>NaN</td>\n",
       "      <td>2001</td>\n",
       "      <td>101</td>\n",
       "      <td>1000</td>\n",
       "      <td>2</td>\n",
       "      <td>7</td>\n",
       "      <td>8</td>\n",
       "      <td>222</td>\n",
       "      <td>...</td>\n",
       "      <td>112.0</td>\n",
       "      <td>NaN</td>\n",
       "      <td>NaN</td>\n",
       "      <td>NaN</td>\n",
       "      <td>NaN</td>\n",
       "      <td>0.0</td>\n",
       "      <td>11.0</td>\n",
       "      <td>NaN</td>\n",
       "      <td>NaN</td>\n",
       "      <td>NaN</td>\n",
       "    </tr>\n",
       "    <tr>\n",
       "      <th>2</th>\n",
       "      <td>1400</td>\n",
       "      <td>NaN</td>\n",
       "      <td>NaN</td>\n",
       "      <td>2001</td>\n",
       "      <td>101</td>\n",
       "      <td>1001</td>\n",
       "      <td>1</td>\n",
       "      <td>7</td>\n",
       "      <td>8</td>\n",
       "      <td>24</td>\n",
       "      <td>...</td>\n",
       "      <td>5.0</td>\n",
       "      <td>NaN</td>\n",
       "      <td>NaN</td>\n",
       "      <td>NaN</td>\n",
       "      <td>NaN</td>\n",
       "      <td>0.0</td>\n",
       "      <td>0.0</td>\n",
       "      <td>NaN</td>\n",
       "      <td>NaN</td>\n",
       "      <td>NaN</td>\n",
       "    </tr>\n",
       "    <tr>\n",
       "      <th>3</th>\n",
       "      <td>1400</td>\n",
       "      <td>NaN</td>\n",
       "      <td>NaN</td>\n",
       "      <td>2001</td>\n",
       "      <td>101</td>\n",
       "      <td>1001</td>\n",
       "      <td>2</td>\n",
       "      <td>7</td>\n",
       "      <td>8</td>\n",
       "      <td>14</td>\n",
       "      <td>...</td>\n",
       "      <td>6.0</td>\n",
       "      <td>NaN</td>\n",
       "      <td>NaN</td>\n",
       "      <td>NaN</td>\n",
       "      <td>NaN</td>\n",
       "      <td>0.0</td>\n",
       "      <td>0.0</td>\n",
       "      <td>NaN</td>\n",
       "      <td>NaN</td>\n",
       "      <td>NaN</td>\n",
       "    </tr>\n",
       "    <tr>\n",
       "      <th>4</th>\n",
       "      <td>1400</td>\n",
       "      <td>NaN</td>\n",
       "      <td>NaN</td>\n",
       "      <td>2001</td>\n",
       "      <td>101</td>\n",
       "      <td>1002</td>\n",
       "      <td>1</td>\n",
       "      <td>7</td>\n",
       "      <td>8</td>\n",
       "      <td>0</td>\n",
       "      <td>...</td>\n",
       "      <td>0.0</td>\n",
       "      <td>NaN</td>\n",
       "      <td>NaN</td>\n",
       "      <td>NaN</td>\n",
       "      <td>NaN</td>\n",
       "      <td>0.0</td>\n",
       "      <td>0.0</td>\n",
       "      <td>NaN</td>\n",
       "      <td>NaN</td>\n",
       "      <td>NaN</td>\n",
       "    </tr>\n",
       "  </tbody>\n",
       "</table>\n",
       "<p>5 rows × 39 columns</p>\n",
       "</div>"
      ],
      "text/plain": [
       "   Country  Admin1  SubDiv  Year List Cause  Sex  Frmat  IM_Frmat  Deaths1  \\\n",
       "0     1400     NaN     NaN  2001  101  1000    1      7         8      332   \n",
       "1     1400     NaN     NaN  2001  101  1000    2      7         8      222   \n",
       "2     1400     NaN     NaN  2001  101  1001    1      7         8       24   \n",
       "3     1400     NaN     NaN  2001  101  1001    2      7         8       14   \n",
       "4     1400     NaN     NaN  2001  101  1002    1      7         8        0   \n",
       "\n",
       "   ...  Deaths21  Deaths22  Deaths23  Deaths24  Deaths25  Deaths26  \\\n",
       "0  ...      95.0       NaN       NaN       NaN       NaN       0.0   \n",
       "1  ...     112.0       NaN       NaN       NaN       NaN       0.0   \n",
       "2  ...       5.0       NaN       NaN       NaN       NaN       0.0   \n",
       "3  ...       6.0       NaN       NaN       NaN       NaN       0.0   \n",
       "4  ...       0.0       NaN       NaN       NaN       NaN       0.0   \n",
       "\n",
       "   IM_Deaths1  IM_Deaths2  IM_Deaths3  IM_Deaths4  \n",
       "0         8.0         NaN         NaN         NaN  \n",
       "1        11.0         NaN         NaN         NaN  \n",
       "2         0.0         NaN         NaN         NaN  \n",
       "3         0.0         NaN         NaN         NaN  \n",
       "4         0.0         NaN         NaN         NaN  \n",
       "\n",
       "[5 rows x 39 columns]"
      ]
     },
     "execution_count": 6,
     "metadata": {},
     "output_type": "execute_result"
    }
   ],
   "source": [
    "# importing 3 Morticd10_part1 dataset\n",
    "mor_1 = pd.read_csv('./3 Morticd10_part1.csv')\n",
    "\n",
    "# briefly viewing the table of mor_1\n",
    "mor_1.head()"
   ]
  },
  {
   "cell_type": "code",
   "execution_count": 7,
   "metadata": {},
   "outputs": [
    {
     "name": "stdout",
     "output_type": "stream",
     "text": [
      "True\n",
      "True\n",
      "False\n"
     ]
    }
   ],
   "source": [
    "# testing whether the country code, 4180, was within mor_1.Country\n",
    "print(4180 in mor_1.Country.values)\n",
    "\n",
    "# testing whether the country code, 3160, was within mor_1.Country\n",
    "print(3160 in mor_1.Country.values)\n",
    "\n",
    "# testing whether the year, 2010, was within mor_1.Year\n",
    "print(2010 in mor_1.Year.values)"
   ]
  },
  {
   "cell_type": "raw",
   "metadata": {},
   "source": [
    "We observed that the year, 2010, was not within mor_1.Year, so mor_1 was not the dataset we wanted"
   ]
  },
  {
   "cell_type": "code",
   "execution_count": 8,
   "metadata": {},
   "outputs": [
    {
     "name": "stderr",
     "output_type": "stream",
     "text": [
      "//anaconda3/lib/python3.7/site-packages/IPython/core/interactiveshell.py:3057: DtypeWarning: Columns (2,4) have mixed types. Specify dtype option on import or set low_memory=False.\n",
      "  interactivity=interactivity, compiler=compiler, result=result)\n"
     ]
    },
    {
     "data": {
      "text/html": [
       "<div>\n",
       "<style scoped>\n",
       "    .dataframe tbody tr th:only-of-type {\n",
       "        vertical-align: middle;\n",
       "    }\n",
       "\n",
       "    .dataframe tbody tr th {\n",
       "        vertical-align: top;\n",
       "    }\n",
       "\n",
       "    .dataframe thead th {\n",
       "        text-align: right;\n",
       "    }\n",
       "</style>\n",
       "<table border=\"1\" class=\"dataframe\">\n",
       "  <thead>\n",
       "    <tr style=\"text-align: right;\">\n",
       "      <th></th>\n",
       "      <th>Country</th>\n",
       "      <th>Admin1</th>\n",
       "      <th>SubDiv</th>\n",
       "      <th>Year</th>\n",
       "      <th>List</th>\n",
       "      <th>Cause</th>\n",
       "      <th>Sex</th>\n",
       "      <th>Frmat</th>\n",
       "      <th>IM_Frmat</th>\n",
       "      <th>Deaths1</th>\n",
       "      <th>...</th>\n",
       "      <th>Deaths21</th>\n",
       "      <th>Deaths22</th>\n",
       "      <th>Deaths23</th>\n",
       "      <th>Deaths24</th>\n",
       "      <th>Deaths25</th>\n",
       "      <th>Deaths26</th>\n",
       "      <th>IM_Deaths1</th>\n",
       "      <th>IM_Deaths2</th>\n",
       "      <th>IM_Deaths3</th>\n",
       "      <th>IM_Deaths4</th>\n",
       "    </tr>\n",
       "  </thead>\n",
       "  <tbody>\n",
       "    <tr>\n",
       "      <th>0</th>\n",
       "      <td>1400</td>\n",
       "      <td>NaN</td>\n",
       "      <td>NaN</td>\n",
       "      <td>2005</td>\n",
       "      <td>101</td>\n",
       "      <td>1000</td>\n",
       "      <td>1</td>\n",
       "      <td>7</td>\n",
       "      <td>8</td>\n",
       "      <td>386</td>\n",
       "      <td>...</td>\n",
       "      <td>136.0</td>\n",
       "      <td>NaN</td>\n",
       "      <td>NaN</td>\n",
       "      <td>NaN</td>\n",
       "      <td>NaN</td>\n",
       "      <td>0.0</td>\n",
       "      <td>10.0</td>\n",
       "      <td>NaN</td>\n",
       "      <td>NaN</td>\n",
       "      <td>NaN</td>\n",
       "    </tr>\n",
       "    <tr>\n",
       "      <th>1</th>\n",
       "      <td>1400</td>\n",
       "      <td>NaN</td>\n",
       "      <td>NaN</td>\n",
       "      <td>2005</td>\n",
       "      <td>101</td>\n",
       "      <td>1000</td>\n",
       "      <td>2</td>\n",
       "      <td>7</td>\n",
       "      <td>8</td>\n",
       "      <td>287</td>\n",
       "      <td>...</td>\n",
       "      <td>163.0</td>\n",
       "      <td>NaN</td>\n",
       "      <td>NaN</td>\n",
       "      <td>NaN</td>\n",
       "      <td>NaN</td>\n",
       "      <td>0.0</td>\n",
       "      <td>6.0</td>\n",
       "      <td>NaN</td>\n",
       "      <td>NaN</td>\n",
       "      <td>NaN</td>\n",
       "    </tr>\n",
       "    <tr>\n",
       "      <th>2</th>\n",
       "      <td>1400</td>\n",
       "      <td>NaN</td>\n",
       "      <td>NaN</td>\n",
       "      <td>2005</td>\n",
       "      <td>101</td>\n",
       "      <td>1001</td>\n",
       "      <td>1</td>\n",
       "      <td>7</td>\n",
       "      <td>8</td>\n",
       "      <td>29</td>\n",
       "      <td>...</td>\n",
       "      <td>13.0</td>\n",
       "      <td>NaN</td>\n",
       "      <td>NaN</td>\n",
       "      <td>NaN</td>\n",
       "      <td>NaN</td>\n",
       "      <td>0.0</td>\n",
       "      <td>0.0</td>\n",
       "      <td>NaN</td>\n",
       "      <td>NaN</td>\n",
       "      <td>NaN</td>\n",
       "    </tr>\n",
       "    <tr>\n",
       "      <th>3</th>\n",
       "      <td>1400</td>\n",
       "      <td>NaN</td>\n",
       "      <td>NaN</td>\n",
       "      <td>2005</td>\n",
       "      <td>101</td>\n",
       "      <td>1001</td>\n",
       "      <td>2</td>\n",
       "      <td>7</td>\n",
       "      <td>8</td>\n",
       "      <td>21</td>\n",
       "      <td>...</td>\n",
       "      <td>16.0</td>\n",
       "      <td>NaN</td>\n",
       "      <td>NaN</td>\n",
       "      <td>NaN</td>\n",
       "      <td>NaN</td>\n",
       "      <td>0.0</td>\n",
       "      <td>0.0</td>\n",
       "      <td>NaN</td>\n",
       "      <td>NaN</td>\n",
       "      <td>NaN</td>\n",
       "    </tr>\n",
       "    <tr>\n",
       "      <th>4</th>\n",
       "      <td>1400</td>\n",
       "      <td>NaN</td>\n",
       "      <td>NaN</td>\n",
       "      <td>2005</td>\n",
       "      <td>101</td>\n",
       "      <td>1002</td>\n",
       "      <td>1</td>\n",
       "      <td>7</td>\n",
       "      <td>8</td>\n",
       "      <td>0</td>\n",
       "      <td>...</td>\n",
       "      <td>0.0</td>\n",
       "      <td>NaN</td>\n",
       "      <td>NaN</td>\n",
       "      <td>NaN</td>\n",
       "      <td>NaN</td>\n",
       "      <td>0.0</td>\n",
       "      <td>0.0</td>\n",
       "      <td>NaN</td>\n",
       "      <td>NaN</td>\n",
       "      <td>NaN</td>\n",
       "    </tr>\n",
       "  </tbody>\n",
       "</table>\n",
       "<p>5 rows × 39 columns</p>\n",
       "</div>"
      ],
      "text/plain": [
       "   Country  Admin1 SubDiv  Year List Cause  Sex  Frmat  IM_Frmat  Deaths1  \\\n",
       "0     1400     NaN    NaN  2005  101  1000    1      7         8      386   \n",
       "1     1400     NaN    NaN  2005  101  1000    2      7         8      287   \n",
       "2     1400     NaN    NaN  2005  101  1001    1      7         8       29   \n",
       "3     1400     NaN    NaN  2005  101  1001    2      7         8       21   \n",
       "4     1400     NaN    NaN  2005  101  1002    1      7         8        0   \n",
       "\n",
       "   ...  Deaths21  Deaths22  Deaths23  Deaths24  Deaths25  Deaths26  \\\n",
       "0  ...     136.0       NaN       NaN       NaN       NaN       0.0   \n",
       "1  ...     163.0       NaN       NaN       NaN       NaN       0.0   \n",
       "2  ...      13.0       NaN       NaN       NaN       NaN       0.0   \n",
       "3  ...      16.0       NaN       NaN       NaN       NaN       0.0   \n",
       "4  ...       0.0       NaN       NaN       NaN       NaN       0.0   \n",
       "\n",
       "   IM_Deaths1  IM_Deaths2  IM_Deaths3  IM_Deaths4  \n",
       "0        10.0         NaN         NaN         NaN  \n",
       "1         6.0         NaN         NaN         NaN  \n",
       "2         0.0         NaN         NaN         NaN  \n",
       "3         0.0         NaN         NaN         NaN  \n",
       "4         0.0         NaN         NaN         NaN  \n",
       "\n",
       "[5 rows x 39 columns]"
      ]
     },
     "execution_count": 8,
     "metadata": {},
     "output_type": "execute_result"
    }
   ],
   "source": [
    "# importing 4 Morticd10_part2 dataset\n",
    "mor_2 = pd.read_csv('./4 Morticd10_part2.csv')\n",
    "\n",
    "# briefly viewing the table of mor_2\n",
    "mor_2.head()"
   ]
  },
  {
   "cell_type": "code",
   "execution_count": 9,
   "metadata": {},
   "outputs": [
    {
     "name": "stdout",
     "output_type": "stream",
     "text": [
      "True\n",
      "True\n",
      "True\n"
     ]
    }
   ],
   "source": [
    "# testing whether the country code, 4180, was within mor_2.Country\n",
    "print(4180 in mor_2.Country.values)\n",
    "\n",
    "# testing whether the country code, 3160, was within mor_2.Country\n",
    "print(3160 in mor_2.Country.values)\n",
    "\n",
    "# testing whether the year, 2010, was within mor_2.Year\n",
    "print(2010 in mor_2.Year.values)"
   ]
  },
  {
   "cell_type": "raw",
   "metadata": {},
   "source": [
    "We observed that mor_2 included all the data we wanted, so we used this dataset for the following analyses"
   ]
  },
  {
   "cell_type": "code",
   "execution_count": 10,
   "metadata": {},
   "outputs": [
    {
     "name": "stdout",
     "output_type": "stream",
     "text": [
      "584615 people died in Italy in 2010\n"
     ]
    }
   ],
   "source": [
    "# firstly, we decided the country code was 4180, wanted from mor_2\n",
    "ita_mor = mor_2[mor_2.Country == 4180]\n",
    "\n",
    "# secondly, we decided the year was 2010, wanted from ita_mor\n",
    "ita_mor_2010 = ita_mor[ita_mor.Year == 2010]\n",
    "\n",
    "# next, we decided the cause (from all causes) was AAA, wanted from ita_mor_2010\n",
    "ita_mor_2010_all = ita_mor_2010[ita_mor_2010.Cause=='AAA']\n",
    "\n",
    "# next, we extracted the column, Deaths1, form ita_mor_2010_all\n",
    "ita_mor_2010_all_Deaths1 = ita_mor_2010_all.Deaths1\n",
    "\n",
    "# lastly, we summed the values of ita_mor_2010_all_Deaths1 and got the result we wanted\n",
    "print(ita_mor_2010_all_Deaths1.sum(),'people died in Italy in 2010')"
   ]
  },
  {
   "cell_type": "code",
   "execution_count": 11,
   "metadata": {},
   "outputs": [
    {
     "name": "stdout",
     "output_type": "stream",
     "text": [
      "1197012 people died in Japan in 2010\n"
     ]
    }
   ],
   "source": [
    "# firstly, we decided the country code was 3160 and the year was 2010 from mor_2\n",
    "jap_mor_2010 = mor_2[(mor_2['Country'] == 3160) & (mor_2['Year'] == 2010)]\n",
    "\n",
    "# next, we decided the cause (from all causes) was AAA, wanted from jap_mor_2010\n",
    "jap_mor_2010_all = jap_mor_2010[jap_mor_2010.Cause=='AAA']\n",
    "\n",
    "# next, we extracted the column, Deaths1, form jap_mor_2010_all\n",
    "jap_mor_2010_all_Deaths1 = jap_mor_2010_all.Deaths1\n",
    "\n",
    "# lastly, we summed the values of jap_mor_2010_all_Deaths1 and got the result we wanted\n",
    "print(jap_mor_2010_all_Deaths1.sum(),'people died in Japan in 2010')"
   ]
  },
  {
   "cell_type": "raw",
   "metadata": {},
   "source": [
    "For question 2:\n",
    "1. 584615 people died in Italy in 2010\n",
    "2. 1197012 people died in Japan in 2010"
   ]
  },
  {
   "cell_type": "markdown",
   "metadata": {},
   "source": [
    "## 3. How many people lived in Italy and Japan in 2010."
   ]
  },
  {
   "cell_type": "code",
   "execution_count": 12,
   "metadata": {},
   "outputs": [
    {
     "data": {
      "text/html": [
       "<div>\n",
       "<style scoped>\n",
       "    .dataframe tbody tr th:only-of-type {\n",
       "        vertical-align: middle;\n",
       "    }\n",
       "\n",
       "    .dataframe tbody tr th {\n",
       "        vertical-align: top;\n",
       "    }\n",
       "\n",
       "    .dataframe thead th {\n",
       "        text-align: right;\n",
       "    }\n",
       "</style>\n",
       "<table border=\"1\" class=\"dataframe\">\n",
       "  <thead>\n",
       "    <tr style=\"text-align: right;\">\n",
       "      <th></th>\n",
       "      <th>Country</th>\n",
       "      <th>Admin1</th>\n",
       "      <th>SubDiv</th>\n",
       "      <th>Year</th>\n",
       "      <th>Sex</th>\n",
       "      <th>Frmat</th>\n",
       "      <th>Pop1</th>\n",
       "      <th>Pop2</th>\n",
       "      <th>Pop3</th>\n",
       "      <th>Pop4</th>\n",
       "      <th>...</th>\n",
       "      <th>Pop18</th>\n",
       "      <th>Pop19</th>\n",
       "      <th>Pop20</th>\n",
       "      <th>Pop21</th>\n",
       "      <th>Pop22</th>\n",
       "      <th>Pop23</th>\n",
       "      <th>Pop24</th>\n",
       "      <th>Pop25</th>\n",
       "      <th>Pop26</th>\n",
       "      <th>Lb</th>\n",
       "    </tr>\n",
       "  </thead>\n",
       "  <tbody>\n",
       "    <tr>\n",
       "      <th>0</th>\n",
       "      <td>1060</td>\n",
       "      <td>NaN</td>\n",
       "      <td>NaN</td>\n",
       "      <td>1980</td>\n",
       "      <td>1</td>\n",
       "      <td>7</td>\n",
       "      <td>137100.0</td>\n",
       "      <td>3400.0</td>\n",
       "      <td>15800.0</td>\n",
       "      <td>NaN</td>\n",
       "      <td>...</td>\n",
       "      <td>NaN</td>\n",
       "      <td>5300.0</td>\n",
       "      <td>NaN</td>\n",
       "      <td>2900.0</td>\n",
       "      <td>NaN</td>\n",
       "      <td>NaN</td>\n",
       "      <td>NaN</td>\n",
       "      <td>NaN</td>\n",
       "      <td>6500.0</td>\n",
       "      <td>5000.0</td>\n",
       "    </tr>\n",
       "    <tr>\n",
       "      <th>1</th>\n",
       "      <td>1060</td>\n",
       "      <td>NaN</td>\n",
       "      <td>NaN</td>\n",
       "      <td>1980</td>\n",
       "      <td>2</td>\n",
       "      <td>7</td>\n",
       "      <td>159000.0</td>\n",
       "      <td>4000.0</td>\n",
       "      <td>18400.0</td>\n",
       "      <td>NaN</td>\n",
       "      <td>...</td>\n",
       "      <td>NaN</td>\n",
       "      <td>6200.0</td>\n",
       "      <td>NaN</td>\n",
       "      <td>3400.0</td>\n",
       "      <td>NaN</td>\n",
       "      <td>NaN</td>\n",
       "      <td>NaN</td>\n",
       "      <td>NaN</td>\n",
       "      <td>7500.0</td>\n",
       "      <td>6000.0</td>\n",
       "    </tr>\n",
       "    <tr>\n",
       "      <th>2</th>\n",
       "      <td>1125</td>\n",
       "      <td>NaN</td>\n",
       "      <td>NaN</td>\n",
       "      <td>1955</td>\n",
       "      <td>1</td>\n",
       "      <td>2</td>\n",
       "      <td>5051500.0</td>\n",
       "      <td>150300.0</td>\n",
       "      <td>543400.0</td>\n",
       "      <td>NaN</td>\n",
       "      <td>...</td>\n",
       "      <td>110200.0</td>\n",
       "      <td>51100.0</td>\n",
       "      <td>41600.0</td>\n",
       "      <td>14300.0</td>\n",
       "      <td>11800.0</td>\n",
       "      <td>25300.0</td>\n",
       "      <td>NaN</td>\n",
       "      <td>NaN</td>\n",
       "      <td>0.0</td>\n",
       "      <td>253329.0</td>\n",
       "    </tr>\n",
       "    <tr>\n",
       "      <th>3</th>\n",
       "      <td>1125</td>\n",
       "      <td>NaN</td>\n",
       "      <td>NaN</td>\n",
       "      <td>1955</td>\n",
       "      <td>2</td>\n",
       "      <td>2</td>\n",
       "      <td>5049400.0</td>\n",
       "      <td>145200.0</td>\n",
       "      <td>551000.0</td>\n",
       "      <td>NaN</td>\n",
       "      <td>...</td>\n",
       "      <td>122100.0</td>\n",
       "      <td>51100.0</td>\n",
       "      <td>50700.0</td>\n",
       "      <td>15800.0</td>\n",
       "      <td>18000.0</td>\n",
       "      <td>28500.0</td>\n",
       "      <td>NaN</td>\n",
       "      <td>NaN</td>\n",
       "      <td>0.0</td>\n",
       "      <td>237901.0</td>\n",
       "    </tr>\n",
       "    <tr>\n",
       "      <th>4</th>\n",
       "      <td>1125</td>\n",
       "      <td>NaN</td>\n",
       "      <td>NaN</td>\n",
       "      <td>1956</td>\n",
       "      <td>1</td>\n",
       "      <td>2</td>\n",
       "      <td>5353700.0</td>\n",
       "      <td>158700.0</td>\n",
       "      <td>576600.0</td>\n",
       "      <td>NaN</td>\n",
       "      <td>...</td>\n",
       "      <td>116900.0</td>\n",
       "      <td>54100.0</td>\n",
       "      <td>44000.0</td>\n",
       "      <td>14900.0</td>\n",
       "      <td>12400.0</td>\n",
       "      <td>26600.0</td>\n",
       "      <td>NaN</td>\n",
       "      <td>NaN</td>\n",
       "      <td>0.0</td>\n",
       "      <td>250022.0</td>\n",
       "    </tr>\n",
       "  </tbody>\n",
       "</table>\n",
       "<p>5 rows × 33 columns</p>\n",
       "</div>"
      ],
      "text/plain": [
       "   Country  Admin1 SubDiv  Year  Sex  Frmat       Pop1      Pop2      Pop3  \\\n",
       "0     1060     NaN    NaN  1980    1      7   137100.0    3400.0   15800.0   \n",
       "1     1060     NaN    NaN  1980    2      7   159000.0    4000.0   18400.0   \n",
       "2     1125     NaN    NaN  1955    1      2  5051500.0  150300.0  543400.0   \n",
       "3     1125     NaN    NaN  1955    2      2  5049400.0  145200.0  551000.0   \n",
       "4     1125     NaN    NaN  1956    1      2  5353700.0  158700.0  576600.0   \n",
       "\n",
       "   Pop4  ...     Pop18    Pop19    Pop20    Pop21    Pop22    Pop23  Pop24  \\\n",
       "0   NaN  ...       NaN   5300.0      NaN   2900.0      NaN      NaN    NaN   \n",
       "1   NaN  ...       NaN   6200.0      NaN   3400.0      NaN      NaN    NaN   \n",
       "2   NaN  ...  110200.0  51100.0  41600.0  14300.0  11800.0  25300.0    NaN   \n",
       "3   NaN  ...  122100.0  51100.0  50700.0  15800.0  18000.0  28500.0    NaN   \n",
       "4   NaN  ...  116900.0  54100.0  44000.0  14900.0  12400.0  26600.0    NaN   \n",
       "\n",
       "   Pop25   Pop26        Lb  \n",
       "0    NaN  6500.0    5000.0  \n",
       "1    NaN  7500.0    6000.0  \n",
       "2    NaN     0.0  253329.0  \n",
       "3    NaN     0.0  237901.0  \n",
       "4    NaN     0.0  250022.0  \n",
       "\n",
       "[5 rows x 33 columns]"
      ]
     },
     "execution_count": 12,
     "metadata": {},
     "output_type": "execute_result"
    }
   ],
   "source": [
    "# importing 1 pop dataset\n",
    "pop = pd.read_csv('./1 pop.csv')\n",
    "\n",
    "# briefly viewing the table of pop\n",
    "pop.head()"
   ]
  },
  {
   "cell_type": "code",
   "execution_count": 13,
   "metadata": {},
   "outputs": [
    {
     "name": "stdout",
     "output_type": "stream",
     "text": [
      "60483386.0 people lived in Italy in 2010\n"
     ]
    }
   ],
   "source": [
    "# firstly, we decided the country code was 4180, wanted from pop\n",
    "ita_pop = pop[pop.Country == 4180]\n",
    "\n",
    "# secondly, we decided the year was 2010, wanted from ita_pop\n",
    "ita_pop_2010 = ita_pop[ita_pop.Year == 2010]\n",
    "\n",
    "# next, we extracted the column, Pop1, form ita_pop_2010\n",
    "ita_pop_2010_all = ita_pop_2010.Pop1\n",
    "\n",
    "# lastly, we summed the values of ita_pop_2010_all and got the result we wanted\n",
    "print(ita_pop_2010_all.sum(),'people lived in Italy in 2010')"
   ]
  },
  {
   "cell_type": "code",
   "execution_count": 14,
   "metadata": {},
   "outputs": [
    {
     "name": "stdout",
     "output_type": "stream",
     "text": [
      "126381728.0 people lived in Japan in 2010\n"
     ]
    }
   ],
   "source": [
    "# firstly, we decided the country code was 3160 and the year was 2010 form pop\n",
    "jap_pop_2010 = pop[(pop['Country'] == 3160) & (pop['Year'] == 2010)]\n",
    "\n",
    "# next, we extracted the column, Pop1, from jap_pop_2010\n",
    "jap_pop_2010_all = jap_pop_2010.Pop1\n",
    "\n",
    "# lastly, we summed the values of jap_pop_2010_all and got the result we wanted\n",
    "print(jap_pop_2010_all.sum(),'people lived in Japan in 2010')"
   ]
  },
  {
   "cell_type": "raw",
   "metadata": {},
   "source": [
    "For question 2:\n",
    "1. 60483386 people lived in Italy in 2010\n",
    "2. 126381728 people lived in Japan in 2010"
   ]
  },
  {
   "cell_type": "markdown",
   "metadata": {},
   "source": [
    "## 4. Provide two numpy-arrays, one for Italy and one for Japan, with the total number of deaths by age group from all causes."
   ]
  },
  {
   "cell_type": "code",
   "execution_count": 15,
   "metadata": {},
   "outputs": [
    {
     "name": "stdout",
     "output_type": "stream",
     "text": [
      "[1.86300e+03 1.24000e+02 7.90000e+01 7.90000e+01 6.10000e+01 2.28000e+02\n",
      " 2.92000e+02 8.21000e+02 1.16500e+03 1.40100e+03 2.04100e+03 3.13600e+03\n",
      " 5.09100e+03 7.94300e+03 1.11410e+04 1.58980e+04 2.56160e+04 3.37970e+04\n",
      " 5.38120e+04 7.91780e+04 1.11517e+05 1.23715e+05 6.37070e+04 4.18930e+04\n",
      " 1.70000e+01]\n"
     ]
    }
   ],
   "source": [
    "# we extracted all rows and columns, only from Deaths2 to Deaths26, from ita_mor_2010_all\n",
    "ita_mor_group_2010 = ita_mor_2010_all.loc[: , 'Deaths2' : 'Deaths26']\n",
    "\n",
    "# we summed the values of ita_mor_group_2010 and got the result we wanted\n",
    "ita_mor_group_2010_sum = ita_mor_group_2010.sum()\n",
    "\n",
    "# we converted ita_mor_group_2010_sum to numpy array\n",
    "ITALY = np.array(ita_mor_group_2010_sum)\n",
    "print(ITALY)"
   ]
  },
  {
   "cell_type": "code",
   "execution_count": 16,
   "metadata": {},
   "outputs": [
    {
     "name": "stdout",
     "output_type": "stream",
     "text": [
      "[2.45000e+03 4.06000e+02 2.16000e+02 1.75000e+02 1.35000e+02 4.80000e+02\n",
      " 5.53000e+02 1.42200e+03 2.75300e+03 3.43700e+03 4.83700e+03 7.55500e+03\n",
      " 1.01620e+04 1.45320e+04 2.20140e+04 3.93260e+04 6.60960e+04 8.30870e+04\n",
      " 1.10248e+05 1.63088e+05 2.11257e+05 2.07287e+05 1.51959e+05 9.28990e+04\n",
      " 6.38000e+02]\n"
     ]
    }
   ],
   "source": [
    "# we extracted all rows and columns, locations only from 10 to -4, from jap_mor_2010_all\n",
    "jap_mor_group_2010 = jap_mor_2010_all.iloc[: , 10 :-4 ]\n",
    "\n",
    "# we summed the values of jap_mor_group_2010, got the result we wanted and converted it to numpy array\n",
    "JAPAN = np.array(jap_mor_group_2010.sum())\n",
    "print(JAPAN)"
   ]
  },
  {
   "cell_type": "markdown",
   "metadata": {},
   "source": [
    "## 5. Visualise the results from the previous question for both countries using a bar chart with matplotlib."
   ]
  },
  {
   "cell_type": "code",
   "execution_count": 18,
   "metadata": {},
   "outputs": [
    {
     "data": {
      "image/png": "[encoded data removed]",
      "text/plain": [
       "<Figure size 1440x720 with 1 Axes>"
      ]
     },
     "metadata": {
      "needs_background": "light"
     },
     "output_type": "display_data"
    }
   ],
   "source": [
    "# firstly, we defined the group list by its actial values from 5 Documentation_1May2019.doc\n",
    "group = ['0','1','2','3','4','5-9','10-14','15-19','20-24','25-29','30-34','35-39','40-44','45-49','50-54','55-59','60-64','65-69','70-74','75-79','80-84','85-89','90-94','95+','unspecified']\n",
    "\n",
    "# we converted the numpy array of ITALY into a list of Italy\n",
    "Italy = list(ITALY)\n",
    "\n",
    "# we used a bar chart as our designed diagram\n",
    "plt.bar(group,Italy)\n",
    "\n",
    "# we defined the size of this diagram\n",
    "plt.rcParams['figure.figsize'] = [20,10]\n",
    "\n",
    "# we setted the title of this diagram\n",
    "plt.title('The total number of deaths by age group in Italy in 2010')\n",
    "\n",
    "# we setted the x label of this diagram\n",
    "plt.xlabel('Age group')\n",
    "\n",
    "# we setted the y label of this diagram\n",
    "plt.ylabel('The total number of deaths')\n",
    "\n",
    "# we showed the diagram\n",
    "plt.show()"
   ]
  },
  {
   "cell_type": "code",
   "execution_count": 19,
   "metadata": {},
   "outputs": [
    {
     "data": {
      "image/png": "[encoded data removed]",
      "text/plain": [
       "<Figure size 1440x720 with 1 Axes>"
      ]
     },
     "metadata": {
      "needs_background": "light"
     },
     "output_type": "display_data"
    }
   ],
   "source": [
    "# firstly, we defined the group list by its actial values from 5 Documentation_1May2019.doc\n",
    "group = ['0','1','2','3','4','5-9','10-14','15-19','20-24','25-29','30-34','35-39','40-44','45-49','50-54','55-59','60-64','65-69','70-74','75-79','80-84','85-89','90-94','95+','unspecified']\n",
    "\n",
    "# we converted the numpy array of Japan into a list of Japan\n",
    "Japan = list(JAPAN)\n",
    "\n",
    "# we used a bar chart as our designed diagram\n",
    "plt.bar(group,Japan)\n",
    "\n",
    "# we defined the size of this diagram\n",
    "plt.rcParams['figure.figsize'] = [20,10]\n",
    "\n",
    "# we setted the title of this diagram\n",
    "plt.title('The total number of deaths by age group in Japan in 2010')\n",
    "\n",
    "# we setted the x label of this diagram\n",
    "plt.xlabel('Age group')\n",
    "\n",
    "# we setted the y label of this diagram\n",
    "plt.ylabel('The total number of deaths')\n",
    "\n",
    "# we showed the diagram\n",
    "plt.show()"
   ]
  },
  {
   "cell_type": "code",
   "execution_count": 20,
   "metadata": {},
   "outputs": [
    {
     "data": {
      "image/png": "[encoded data removed]",
      "text/plain": [
       "<Figure size 1440x720 with 1 Axes>"
      ]
     },
     "metadata": {
      "needs_background": "light"
     },
     "output_type": "display_data"
    }
   ],
   "source": [
    "# firstly, we defined the group list by its actial values from 5 Documentation_1May2019.doc\n",
    "group = ['0','1','2','3','4','5-9','10-14','15-19','20-24','25-29','30-34','35-39','40-44','45-49','50-54','55-59','60-64','65-69','70-74','75-79','80-84','85-89','90-94','95+','unspecified']\n",
    "\n",
    "# we converted the list of group, Italy and Japan into a dataframe\n",
    "df = pd.DataFrame({'group': group, 'Italy': Italy, 'Japan':Japan})\n",
    "\n",
    "# we setted Italy bar yellow and Japan bar green\n",
    "df.plot.bar(color = ['yellow', 'green'])\n",
    "\n",
    "# we defined the size of this diagram\n",
    "plt.rcParams['figure.figsize'] = [20,10]\n",
    "\n",
    "# we changed some defaults of the x ticks to what we wanted\n",
    "plt.xticks(ticks=df.index, labels = group, rotation = 0)\n",
    "\n",
    "# we setted the title of this diagram\n",
    "plt.title('The total number of deaths by age group in Italy and Japan in 2010')\n",
    "\n",
    "# we setted the x label of this diagram\n",
    "plt.xlabel('Age group')\n",
    "\n",
    "# we setted the y label of this diagram\n",
    "plt.ylabel('The total number of deaths')\n",
    "\n",
    "# we showed the diagram\n",
    "plt.show()"
   ]
  },
  {
   "cell_type": "markdown",
   "metadata": {},
   "source": [
    "## 6. Looking specifically at the ICD10-category for Neoplasm (C00-D48). What were the top five causes of deaths caused by Neoplasm (top five ICD-10 terms) in Italy and Japan across all years (in absolute numbers)."
   ]
  },
  {
   "cell_type": "code",
   "execution_count": 21,
   "metadata": {},
   "outputs": [
    {
     "data": {
      "text/html": [
       "<div>\n",
       "<style scoped>\n",
       "    .dataframe tbody tr th:only-of-type {\n",
       "        vertical-align: middle;\n",
       "    }\n",
       "\n",
       "    .dataframe tbody tr th {\n",
       "        vertical-align: top;\n",
       "    }\n",
       "\n",
       "    .dataframe thead th {\n",
       "        text-align: right;\n",
       "    }\n",
       "</style>\n",
       "<table border=\"1\" class=\"dataframe\">\n",
       "  <thead>\n",
       "    <tr style=\"text-align: right;\">\n",
       "      <th></th>\n",
       "      <th>Deaths1</th>\n",
       "    </tr>\n",
       "    <tr>\n",
       "      <th>Cause</th>\n",
       "      <th></th>\n",
       "    </tr>\n",
       "  </thead>\n",
       "  <tbody>\n",
       "    <tr>\n",
       "      <th>C349</th>\n",
       "      <td>33416</td>\n",
       "    </tr>\n",
       "    <tr>\n",
       "      <th>C509</th>\n",
       "      <td>12231</td>\n",
       "    </tr>\n",
       "    <tr>\n",
       "      <th>C189</th>\n",
       "      <td>11638</td>\n",
       "    </tr>\n",
       "    <tr>\n",
       "      <th>C259</th>\n",
       "      <td>9683</td>\n",
       "    </tr>\n",
       "    <tr>\n",
       "      <th>C169</th>\n",
       "      <td>9523</td>\n",
       "    </tr>\n",
       "  </tbody>\n",
       "</table>\n",
       "</div>"
      ],
      "text/plain": [
       "       Deaths1\n",
       "Cause         \n",
       "C349     33416\n",
       "C509     12231\n",
       "C189     11638\n",
       "C259      9683\n",
       "C169      9523"
      ]
     },
     "execution_count": 21,
     "metadata": {},
     "output_type": "execute_result"
    }
   ],
   "source": [
    "# we setted the column, Cause, as our new index so that we could easily use 'loc' to get the slice we wanted\n",
    "ita_mor_2010_ICD = ita_mor_2010.set_index('Cause')\n",
    "\n",
    "# we sliced the rows, from C00 to D48, and colum, Deaths1\n",
    "ita_mor_2010_cancer = ita_mor_2010_ICD.loc[ 'C00' : 'D48' , 'Deaths1']\n",
    "\n",
    "# since some index were replicated, one for male and the other for female, we needed to combine them into one row\n",
    "ita_mor_2010_cancer_combined = ita_mor_2010_cancer.groupby(level=0).sum()\n",
    "\n",
    "# we sorted the ita_mor_2010_cancer_combined from the highest death cause to the lowest death cause\n",
    "ita_mor_2010_cancer_sorted = ita_mor_2010_cancer_combined.sort_values(ascending=False)\n",
    "\n",
    "# briefly viewing tita_mor_2010_cancer_sorted and setting it into a dataframe\n",
    "df_ita = pd.DataFrame(ita_mor_2010_cancer_sorted.head())\n",
    "df_ita"
   ]
  },
  {
   "cell_type": "code",
   "execution_count": 22,
   "metadata": {},
   "outputs": [
    {
     "data": {
      "text/html": [
       "<div>\n",
       "<style scoped>\n",
       "    .dataframe tbody tr th:only-of-type {\n",
       "        vertical-align: middle;\n",
       "    }\n",
       "\n",
       "    .dataframe tbody tr th {\n",
       "        vertical-align: top;\n",
       "    }\n",
       "\n",
       "    .dataframe thead th {\n",
       "        text-align: right;\n",
       "    }\n",
       "</style>\n",
       "<table border=\"1\" class=\"dataframe\">\n",
       "  <thead>\n",
       "    <tr style=\"text-align: right;\">\n",
       "      <th></th>\n",
       "      <th>Cause</th>\n",
       "      <th>Deaths1</th>\n",
       "    </tr>\n",
       "  </thead>\n",
       "  <tbody>\n",
       "    <tr>\n",
       "      <th>0</th>\n",
       "      <td>C349</td>\n",
       "      <td>62144</td>\n",
       "    </tr>\n",
       "    <tr>\n",
       "      <th>1</th>\n",
       "      <td>C169</td>\n",
       "      <td>43418</td>\n",
       "    </tr>\n",
       "    <tr>\n",
       "      <th>2</th>\n",
       "      <td>C220</td>\n",
       "      <td>29166</td>\n",
       "    </tr>\n",
       "    <tr>\n",
       "      <th>3</th>\n",
       "      <td>C259</td>\n",
       "      <td>19097</td>\n",
       "    </tr>\n",
       "    <tr>\n",
       "      <th>4</th>\n",
       "      <td>C20</td>\n",
       "      <td>13874</td>\n",
       "    </tr>\n",
       "  </tbody>\n",
       "</table>\n",
       "</div>"
      ],
      "text/plain": [
       "  Cause  Deaths1\n",
       "0  C349    62144\n",
       "1  C169    43418\n",
       "2  C220    29166\n",
       "3  C259    19097\n",
       "4   C20    13874"
      ]
     },
     "execution_count": 22,
     "metadata": {},
     "output_type": "execute_result"
    }
   ],
   "source": [
    "# we setted the column, Cause, as our new index so that we could easily use 'loc' to get the slice we wanted\n",
    "jap_mor_2010_ICD = jap_mor_2010.set_index('Cause')\n",
    "\n",
    "# we sliced the rows, from C00 to D48, and colum, Deaths1\n",
    "jap_mor_2010_cancer = jap_mor_2010_ICD.loc[ 'C00' : 'D48' , 'Deaths1']\n",
    "\n",
    "# since some index were replicated, one for male and the other for female, we needed to combine them into one row\n",
    "jap_mor_2010_cancer_combined = jap_mor_2010_cancer.groupby(level=0).sum()\n",
    "\n",
    "# we sorted the jap_mor_2010_cancer_combined from the highest death cause to the lowest death cause\n",
    "jap_mor_2010_cancer_sorted = jap_mor_2010_cancer_combined.sort_values(ascending=False)\n",
    "\n",
    "# we resetted the index of jap_mor_2010_cancer_sorted to present a slightly different table from the previous one\n",
    "df_jap = jap_mor_2010_cancer_sorted.reset_index()\n",
    "\n",
    "# briefly viewing df_jap\n",
    "df_jap.head()"
   ]
  },
  {
   "cell_type": "markdown",
   "metadata": {},
   "source": [
    "## 7. For the top five deaths caused by Neoplasm calculate the proportion in relation to the total number of deaths."
   ]
  },
  {
   "cell_type": "code",
   "execution_count": 23,
   "metadata": {},
   "outputs": [],
   "source": [
    "# we converted ita_mor_2010_cancer_sorted.head() into a dictionary, ITALY_1\n",
    "ITALY_1 = dict(ita_mor_2010_cancer_sorted.head())\n",
    "\n",
    "# we converted jap_mor_2010_cancer_sorted.head() into a dictionary, JAPAN_1\n",
    "JAPAN_1 = dict(jap_mor_2010_cancer_sorted.head())"
   ]
  },
  {
   "cell_type": "code",
   "execution_count": 24,
   "metadata": {},
   "outputs": [
    {
     "name": "stdout",
     "output_type": "stream",
     "text": [
      "The death proportion of C349 in Italy in 2010: 5.716 %\n",
      "The death proportion of C509 in Italy in 2010: 2.092 %\n",
      "The death proportion of C189 in Italy in 2010: 1.991 %\n",
      "The death proportion of C259 in Italy in 2010: 1.656 %\n",
      "The death proportion of C169 in Italy in 2010: 1.629 %\n"
     ]
    }
   ],
   "source": [
    "# for every object in ITALY_1, we would divide it by ita_mor_2010_all.Deaths1.sum(), print it out and round it to the third decimal\n",
    "for k in ITALY_1:\n",
    "    proportion = ITALY_1[k] / ita_mor_2010_all.Deaths1.sum()*100\n",
    "    print('The death proportion of', k , 'in Italy in 2010:' , round(proportion,3),'%')"
   ]
  },
  {
   "cell_type": "code",
   "execution_count": 25,
   "metadata": {},
   "outputs": [
    {
     "name": "stdout",
     "output_type": "stream",
     "text": [
      "The death proportion of C349 in Japan in 2010: 5.192 %\n",
      "The death proportion of C169 in Japan in 2010: 3.627 %\n",
      "The death proportion of C220 in Japan in 2010: 2.437 %\n",
      "The death proportion of C259 in Japan in 2010: 1.595 %\n",
      "The death proportion of C20 in Japan in 2010: 1.159 %\n"
     ]
    }
   ],
   "source": [
    "# for every object in ITALY_1, we would divide it by jap_mor_2010_all.Deaths1.sum(), print it out and round it to the third decimal (using a slightly different method)\n",
    "for k,v in JAPAN_1.items():\n",
    "    proportion = v / jap_mor_2010_all.Deaths1.sum()*100\n",
    "    print('The death proportion of', k , 'in Japan in 2010:' , round(proportion,3),'%')"
   ]
  },
  {
   "cell_type": "markdown",
   "metadata": {},
   "source": [
    "## 8. The affected organ of each type of cancer is identifiable from the description of the related ICD sub-codes. This information is stored in the following file: I10cm_desc2010.txt. Manually, semi-automatically or automatically identify the relevant organ from the provided list"
   ]
  },
  {
   "cell_type": "code",
   "execution_count": 26,
   "metadata": {},
   "outputs": [],
   "source": [
    "# we opened 6 I10cm_desc2010.txt and read it \n",
    "ICD10 = open('6 I10cm_desc2010.txt' , 'r')"
   ]
  },
  {
   "cell_type": "code",
   "execution_count": 27,
   "metadata": {},
   "outputs": [
    {
     "name": "stdout",
     "output_type": "stream",
     "text": [
      "C169    Malignant neoplasm of stomach, unspecified\n",
      "\n",
      "C189    Malignant neoplasm of colon, unspecified\n",
      "\n",
      "C20     Malignant neoplasm of rectum\n",
      "\n",
      "C220    Liver cell carcinoma\n",
      "\n",
      "C259    Malignant neoplasm of pancreas, unspecified\n",
      "\n",
      "C3490   Malignant neoplasm of bronchus or lung, unspecified, unspecified side\n",
      "\n",
      "C3491   Malignant neoplasm of right bronchus or lung, unspecified\n",
      "\n",
      "C3492   Malignant neoplasm of left bronchus or lung, unspecified\n",
      "\n",
      "C50911  Malignant neoplasm of unspecified site of right female breast\n",
      "\n",
      "C50912  Malignant neoplasm of unspecified site of left female breast\n",
      "\n",
      "C50919  Malignant neoplasm of unspecified site of unspecified female breast\n",
      "\n",
      "C50921  Malignant neoplasm of unspecified site of right male breast\n",
      "\n",
      "C50922  Malignant neoplasm of unspecified site of left male breast\n",
      "\n",
      "C50929  Malignant neoplasm of unspecified site of unspecified male breast\n",
      "\n"
     ]
    }
   ],
   "source": [
    "# using 'for loop' and 'if loop' to find out the affected organ of each type of cancer from ICD10. If the code was found, it would be printed out\n",
    "for code in ICD10:\n",
    "    if 'C349' in code:\n",
    "        print(code)\n",
    "    elif  'C509' in code:\n",
    "        print(code)\n",
    "    elif 'C189' in code:\n",
    "        print(code)\n",
    "    elif 'C259' in code:\n",
    "        print(code)\n",
    "    elif 'C169' in code:\n",
    "        print(code)\n",
    "    elif 'C220' in code:\n",
    "        print(code)\n",
    "    elif 'C20' in code:\n",
    "        print(code)"
   ]
  },
  {
   "cell_type": "code",
   "execution_count": 28,
   "metadata": {},
   "outputs": [],
   "source": [
    "# in the final step, we had to close ICD10\n",
    "ICD10.close()"
   ]
  },
  {
   "cell_type": "raw",
   "metadata": {},
   "source": [
    "For the top five ograns affected by Neoplasm in Italy in 2010\n",
    "1. C349: bronchus or lung\n",
    "2. C509: breast\n",
    "3. C189: colon\n",
    "4. C259: pancreas\n",
    "5. C169: stomach"
   ]
  },
  {
   "cell_type": "raw",
   "metadata": {},
   "source": [
    "For the top five ograns affected by Neoplasm in Japan in 2010\n",
    "1. C349: bronchus or lung\n",
    "2. C169: stomach\n",
    "3. C220: liver\n",
    "4. C259: pancreas\n",
    "5. C20: rectum"
   ]
  }
 ],
 "metadata": {
  "kernelspec": {
   "display_name": "Python 3",
   "language": "python",
   "name": "python3"
  },
  "language_info": {
   "codemirror_mode": {
    "name": "ipython",
    "version": 3
   },
   "file_extension": ".py",
   "mimetype": "text/x-python",
   "name": "python",
   "nbconvert_exporter": "python",
   "pygments_lexer": "ipython3",
   "version": "3.7.3"
  }
 },
 "nbformat": 4,
 "nbformat_minor": 2
}
